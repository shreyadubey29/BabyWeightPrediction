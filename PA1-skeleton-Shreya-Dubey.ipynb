{
 "cells": [
  {
   "cell_type": "markdown",
   "metadata": {},
   "source": [
    "# Programming Assignment 1\n",
    "* CSCI-4930/5930 ML Spring 2019  (Be sure to discard which section you are not enrolled)\n",
    "* Author: Shreya Dubey "
   ]
  },
  {
   "cell_type": "markdown",
   "metadata": {},
   "source": [
    "## Tasks for everyone (Tasks 1-15)"
   ]
  },
  {
   "cell_type": "markdown",
   "metadata": {},
   "source": [
    "### TASK 1: Import all the necessary packages here\n"
   ]
  },
  {
   "cell_type": "code",
   "execution_count": 1,
   "metadata": {},
   "outputs": [],
   "source": [
    "import numpy as np\n",
    "import pandas as pd\n",
    "import matplotlib.pyplot as plt\n",
    "import seaborn as sns\n",
    "from scipy import stats\n",
    "%matplotlib inline\n",
    "sns.set()\n",
    "import sklearn\n",
    "from sklearn.model_selection import train_test_split\n",
    "import warnings\n",
    "import math\n",
    "warnings.filterwarnings(\"ignore\",category=FutureWarning)\n",
    "warnings.filterwarnings(\"ignore\",category=DeprecationWarning)\n"
   ]
  },
  {
   "cell_type": "markdown",
   "metadata": {},
   "source": [
    "### TASK 2: Load the dataset into memory so that you can play with it here"
   ]
  },
  {
   "cell_type": "code",
   "execution_count": 2,
   "metadata": {},
   "outputs": [],
   "source": [
    "df_train = pd.read_csv(\"baby-weights-dataset2.csv\")\n",
    "\n",
    "\n"
   ]
  },
  {
   "cell_type": "markdown",
   "metadata": {},
   "source": [
    "### TASK 3: Compute mean, stdev, min, max, 25% percentile, median and 75% percentile of the dataset (BWEIGHT variable)"
   ]
  },
  {
   "cell_type": "code",
   "execution_count": 3,
   "metadata": {},
   "outputs": [
    {
     "name": "stdout",
     "output_type": "stream",
     "text": [
      "(101400, 37)\n"
     ]
    },
    {
     "data": {
      "text/plain": [
       "count    101400.000000\n",
       "mean          7.258066\n",
       "std           1.329461\n",
       "min           0.187500\n",
       "25%           6.625000\n",
       "50%           7.375000\n",
       "75%           8.062500\n",
       "max          13.062500\n",
       "Name: BWEIGHT, dtype: float64"
      ]
     },
     "execution_count": 3,
     "metadata": {},
     "output_type": "execute_result"
    }
   ],
   "source": [
    "print (df_train.shape)\n",
    "df_train.head\n",
    "df_train['BWEIGHT'].describe()\n",
    "\n",
    "\n"
   ]
  },
  {
   "cell_type": "markdown",
   "metadata": {},
   "source": [
    "### TASK 4: Also, draw the histogram plot for the BWEIGHT variable\n"
   ]
  },
  {
   "cell_type": "code",
   "execution_count": 4,
   "metadata": {},
   "outputs": [
    {
     "data": {
      "text/plain": [
       "<matplotlib.axes._subplots.AxesSubplot at 0x1ff78db50b8>"
      ]
     },
     "execution_count": 4,
     "metadata": {},
     "output_type": "execute_result"
    },
    {
     "data": {
      "image/png": "[encoded data removed]",
      "text/plain": [
       "<matplotlib.figure.Figure at 0x1ff78d93080>"
      ]
     },
     "metadata": {
      "needs_background": "light"
     },
     "output_type": "display_data"
    }
   ],
   "source": [
    "sns.distplot(df_train['BWEIGHT'])\n",
    "\n",
    "\n",
    "\n"
   ]
  },
  {
   "cell_type": "markdown",
   "metadata": {},
   "source": [
    "### TASK 5: Present the skewness and kurtosis of the BWEIGHT target variable"
   ]
  },
  {
   "cell_type": "code",
   "execution_count": 5,
   "metadata": {},
   "outputs": [
    {
     "name": "stdout",
     "output_type": "stream",
     "text": [
      "Skewness: -3.558541\n",
      "Kurtosis: 24.020191\n"
     ]
    },
    {
     "data": {
      "image/png": "[encoded data removed]",
      "text/plain": [
       "<matplotlib.figure.Figure at 0x1ff792cc358>"
      ]
     },
     "metadata": {
      "needs_background": "light"
     },
     "output_type": "display_data"
    }
   ],
   "source": [
    "df_train['BWEIGHT_Log']= np.log(df_train['BWEIGHT'])\n",
    "\n",
    "sns.distplot(df_train['BWEIGHT_Log'])\n",
    "\n",
    "print(\"Skewness: %f\" % df_train['BWEIGHT_Log'].skew())\n",
    "print(\"Kurtosis: %f\" % df_train['BWEIGHT_Log'].kurt())\n",
    "\n"
   ]
  },
  {
   "cell_type": "markdown",
   "metadata": {},
   "source": [
    "### TASK 6: Do variable selection from the pool of 124 variables based on correlation score with the target variable BWEIGHT \n",
    "### Please report all the variables you kept for training."
   ]
  },
  {
   "cell_type": "markdown",
   "metadata": {},
   "source": [
    "I am choosing 7 variables as my training variables as they have a correlation score above 0.09.\n",
    "These variables are - WEEKS, GAINED, VISITS, HYPERPR, MARITAL, SEX and CIGNUM"
   ]
  },
  {
   "cell_type": "code",
   "execution_count": 6,
   "metadata": {},
   "outputs": [
    {
     "name": "stdout",
     "output_type": "stream",
     "text": [
      "BWEIGHT        1.000000\n",
      "BWEIGHT_Log    0.948247\n",
      "WEEKS          0.565376\n",
      "GAINED         0.173262\n",
      "VISITS         0.129587\n",
      "HYPERPR        0.108541\n",
      "MARITAL        0.107106\n",
      "SEX            0.093440\n",
      "CIGNUM         0.090670\n",
      "RACEDAD        0.084056\n",
      "RACEMOM        0.079893\n",
      "PRETERM        0.072932\n",
      "MAGE           0.068473\n",
      "ECLAMP         0.068073\n",
      "PINFANT        0.067073\n",
      "CERVIX         0.066935\n",
      "MEDUC          0.055908\n",
      "FEDUC          0.052673\n",
      "FAGE           0.051447\n",
      "HYDRAM         0.050001\n",
      "HYPERCH        0.043561\n",
      "UTERINE        0.042741\n",
      "LOUTCOME       0.037264\n",
      "BDEAD          0.036611\n",
      "TERMS          0.026878\n",
      "ANEMIA         0.011487\n",
      "HEMOGLOB       0.010994\n",
      "DIABETES       0.010216\n",
      "DRINKNUM       0.010207\n",
      "RENAL          0.007734\n",
      "ACLUNG         0.006643\n",
      "TOTALP         0.003201\n",
      "ID             0.003001\n",
      "RHSEN          0.001985\n",
      "HERPES         0.001442\n",
      "CARDIAC        0.000425\n",
      "Name: BWEIGHT, dtype: float64\n"
     ]
    },
    {
     "data": {
      "image/png": "[encoded data removed]",
      "text/plain": [
       "<matplotlib.figure.Figure at 0x1ff7935d710>"
      ]
     },
     "metadata": {
      "needs_background": "light"
     },
     "output_type": "display_data"
    }
   ],
   "source": [
    "corr_matrix = df_train.corr()\n",
    "\n",
    "#set the figure size for heatmap \n",
    "plt.figure(figsize = (12,10))\n",
    "\n",
    "#plot heatmap \n",
    "sns.heatmap(corr_matrix, xticklabels = corr_matrix.columns.values, yticklabels=corr_matrix.columns.values)\n",
    "\n",
    "#def print_cols_large_corr(df, nr_c, targ) :\n",
    "corr_abs = corr_matrix.abs()\n",
    "#corr_matrix['BWEIGHT'].sort_values(ascending=False)\n",
    "from pandas.tools.plotting import scatter_matrix\n",
    "print(corr_abs['BWEIGHT'].sort_values(ascending=False))\n",
    "#attributes = [\"BWEIGHT\", \"WEEKS\", \"GAINED\", \"VISITS\", \"HYPERPR\"]\n",
    "#scatter_matrix(df_train[attributes], figsize=(16,16))\n"
   ]
  },
  {
   "cell_type": "markdown",
   "metadata": {},
   "source": [
    "### TASK 7: Check for missing data, and apply a \"good\" strategy to tackle it"
   ]
  },
  {
   "cell_type": "code",
   "execution_count": 7,
   "metadata": {
    "scrolled": true
   },
   "outputs": [
    {
     "name": "stdout",
     "output_type": "stream",
     "text": [
      "<class 'pandas.core.frame.DataFrame'>\n",
      "RangeIndex: 101400 entries, 0 to 101399\n",
      "Data columns (total 38 columns):\n",
      "ID             101400 non-null int64\n",
      "SEX            101400 non-null int64\n",
      "MARITAL        101400 non-null int64\n",
      "FAGE           101400 non-null int64\n",
      "GAINED         101400 non-null int64\n",
      "VISITS         101400 non-null int64\n",
      "MAGE           101400 non-null int64\n",
      "FEDUC          101400 non-null int64\n",
      "MEDUC          101400 non-null int64\n",
      "TOTALP         101400 non-null int64\n",
      "BDEAD          101400 non-null int64\n",
      "TERMS          101400 non-null int64\n",
      "LOUTCOME       101400 non-null int64\n",
      "WEEKS          101400 non-null int64\n",
      "RACEMOM        101400 non-null int64\n",
      "RACEDAD        101400 non-null int64\n",
      "HISPMOM        101400 non-null object\n",
      "HISPDAD        101400 non-null object\n",
      "CIGNUM         101400 non-null int64\n",
      "DRINKNUM       101400 non-null int64\n",
      "ANEMIA         101400 non-null int64\n",
      "CARDIAC        101400 non-null int64\n",
      "ACLUNG         101400 non-null int64\n",
      "DIABETES       101400 non-null int64\n",
      "HERPES         101400 non-null int64\n",
      "HYDRAM         101400 non-null int64\n",
      "HEMOGLOB       101400 non-null int64\n",
      "HYPERCH        101400 non-null int64\n",
      "HYPERPR        101400 non-null int64\n",
      "ECLAMP         101400 non-null int64\n",
      "CERVIX         101400 non-null int64\n",
      "PINFANT        101400 non-null int64\n",
      "PRETERM        101400 non-null int64\n",
      "RENAL          101400 non-null int64\n",
      "RHSEN          101400 non-null int64\n",
      "UTERINE        101400 non-null int64\n",
      "BWEIGHT        101400 non-null float64\n",
      "BWEIGHT_Log    101400 non-null float64\n",
      "dtypes: float64(2), int64(34), object(2)\n",
      "memory usage: 29.4+ MB\n"
     ]
    },
    {
     "data": {
      "text/plain": [
       "<bound method NDFrame.head of             ID  SEX  MARITAL  FAGE  GAINED  VISITS  MAGE  FEDUC  MEDUC  \\\n",
       "0         2001    2        1    33      26      10    34     12      4   \n",
       "1         2002    2        2    19      40      10    18     11     12   \n",
       "2         2003    2        1    33      16      14    31     16     16   \n",
       "3         2004    1        1    25      40      15    28     12     12   \n",
       "4         2005    1        2    21      60      13    20     12     14   \n",
       "5         2006    1        1    21      30      15    21     12     13   \n",
       "6         2007    1        2    29      20      11    32      6      6   \n",
       "7         2008    2        2    23      41      15    21     13     13   \n",
       "8         2009    2        1    27       0      12    26     10     13   \n",
       "9         2010    1        1    30      30      10    22     12     14   \n",
       "10        2011    2        2    29      15      22    29     13     14   \n",
       "11        2012    1        2    23      30      13    23     12     13   \n",
       "12        2013    2        1    41      47      13    36     12     12   \n",
       "13        2014    2        2    21      38       9    20     12     10   \n",
       "14        2015    1        1    31      60      12    23     17     14   \n",
       "15        2016    2        2    20      51      11    19     14     12   \n",
       "16        2017    2        1    43      27      12    28     14     16   \n",
       "17        2018    2        1    32      28      13    32     17     17   \n",
       "18        2019    1        1    24      20       5    23     13     14   \n",
       "19        2020    1        1    35      52      10    23     12     12   \n",
       "20        2021    2        1    31      25      12    30     12     12   \n",
       "21        2022    2        1    32      35      20    30     12     16   \n",
       "22        2023    2        1    24      55       7    25     13     14   \n",
       "23        2024    1        1    40      27      19    34     12     14   \n",
       "24        2025    1        1    23      40      15    23     12     13   \n",
       "25        2026    2        1    27      17      10    31     13     14   \n",
       "26        2027    1        1    21      38       8    21     13     14   \n",
       "27        2028    1        1    28      50      10    27     14     16   \n",
       "28        2029    2        2    44      12      10    41     14     15   \n",
       "29        2030    2        1    36      19      10    34     12     12   \n",
       "...        ...  ...      ...   ...     ...     ...   ...    ...    ...   \n",
       "101370  103371    1        2    23      14      12    19     12     12   \n",
       "101371  103372    2        1    30      30      12    28     14     15   \n",
       "101372  103373    1        1    27      30      12    21     12     12   \n",
       "101373  103374    1        2    28      17       8    36     14     12   \n",
       "101374  103375    1        1    21      40      15    26     15     16   \n",
       "101375  103376    2        1    28      20      10    28      9      9   \n",
       "101376  103377    1        1    21      21      14    20     12     12   \n",
       "101377  103378    2        2    24      55      16    24     12     13   \n",
       "101378  103379    1        2    18      33      10    21     12     11   \n",
       "101379  103380    2        2    25      52      12    31     12     14   \n",
       "101380  103381    2        1    34      50      18    30     14     13   \n",
       "101381  103382    2        1    32      16      15    28     12     13   \n",
       "101382  103383    2        1    23      35      13    22     11     14   \n",
       "101383  103384    1        1    25      19       9    22     15     14   \n",
       "101384  103385    2        2    35      18      14    30     12     13   \n",
       "101385  103386    2        1    25      55      10    28     12     15   \n",
       "101386  103387    2        2    22      20      12    27     12     14   \n",
       "101387  103388    2        2    21      24      12    21     14     12   \n",
       "101388  103389    2        2    34      63      15    28      6     16   \n",
       "101389  103390    2        1    37      33      12    29     16     17   \n",
       "101390  103391    2        1    33      60      12    32     16     12   \n",
       "101391  103392    1        1    21      35      15    20     12     11   \n",
       "101392  103393    1        1    29      34      11    24     16     14   \n",
       "101393  103394    2        1    33       9      19    30     16     16   \n",
       "101394  103395    2        1    35      20      15    30      6      8   \n",
       "101395  103396    1        2    36       0       9    34      3     12   \n",
       "101396  103397    2        2    21      39      11    19     12      9   \n",
       "101397  103398    2        1    27      37      15    22     12     12   \n",
       "101398  103399    1        1    27      26      12    24     12     14   \n",
       "101399  103400    1        2    20      31      15    17     12     11   \n",
       "\n",
       "        TOTALP     ...       HYPERPR  ECLAMP  CERVIX  PINFANT  PRETERM  RENAL  \\\n",
       "0            2     ...             0       0       0        0        0      0   \n",
       "1            1     ...             0       0       0        0        0      0   \n",
       "2            2     ...             0       0       0        0        0      0   \n",
       "3            3     ...             0       0       0        0        0      0   \n",
       "4            2     ...             1       0       0        0        0      0   \n",
       "5            1     ...             0       0       0        0        0      0   \n",
       "6            2     ...             0       0       0        0        0      0   \n",
       "7            1     ...             0       0       0        0        0      0   \n",
       "8            1     ...             0       0       0        0        0      0   \n",
       "9            3     ...             0       0       0        0        0      0   \n",
       "10           9     ...             0       0       0        0        0      0   \n",
       "11           1     ...             0       0       0        0        0      0   \n",
       "12           3     ...             0       0       0        0        0      0   \n",
       "13           2     ...             0       0       0        0        0      0   \n",
       "14           3     ...             0       0       0        0        0      0   \n",
       "15           1     ...             0       0       0        0        0      0   \n",
       "16           1     ...             0       0       0        0        0      0   \n",
       "17           2     ...             0       0       0        0        0      0   \n",
       "18           1     ...             0       0       0        0        0      0   \n",
       "19           3     ...             0       0       0        0        0      0   \n",
       "20           4     ...             0       0       0        0        0      0   \n",
       "21           2     ...             0       0       0        0        0      0   \n",
       "22           2     ...             0       0       0        0        0      0   \n",
       "23           2     ...             0       0       0        0        0      0   \n",
       "24           2     ...             0       0       0        0        0      0   \n",
       "25           5     ...             0       0       0        0        0      0   \n",
       "26           3     ...             0       0       0        0        1      0   \n",
       "27           2     ...             0       0       0        0        0      0   \n",
       "28          10     ...             0       0       0        0        0      0   \n",
       "29           1     ...             0       0       0        0        0      0   \n",
       "...        ...     ...           ...     ...     ...      ...      ...    ...   \n",
       "101370       3     ...             0       0       0        0        0      0   \n",
       "101371       2     ...             0       0       0        0        0      0   \n",
       "101372       3     ...             0       0       0        0        0      0   \n",
       "101373       5     ...             0       0       0        0        0      0   \n",
       "101374       2     ...             0       0       0        0        0      0   \n",
       "101375       4     ...             0       0       0        0        0      0   \n",
       "101376       2     ...             1       0       0        0        0      0   \n",
       "101377       3     ...             0       0       0        0        0      0   \n",
       "101378       1     ...             0       0       0        0        0      0   \n",
       "101379       4     ...             0       0       0        0        0      0   \n",
       "101380       1     ...             0       0       0        0        0      0   \n",
       "101381       2     ...             0       0       0        0        0      0   \n",
       "101382       4     ...             0       0       0        0        0      0   \n",
       "101383       2     ...             0       0       0        0        0      0   \n",
       "101384       4     ...             0       0       0        0        0      0   \n",
       "101385       2     ...             0       0       0        0        0      0   \n",
       "101386       3     ...             0       0       0        0        0      0   \n",
       "101387       1     ...             0       0       0        0        0      0   \n",
       "101388       1     ...             0       0       0        0        0      0   \n",
       "101389       3     ...             0       0       0        0        0      0   \n",
       "101390       5     ...             0       0       0        0        0      0   \n",
       "101391       1     ...             0       0       0        0        0      0   \n",
       "101392       1     ...             0       0       0        0        0      0   \n",
       "101393       1     ...             0       0       0        0        0      0   \n",
       "101394       3     ...             0       0       0        0        0      0   \n",
       "101395       4     ...             0       0       0        0        0      0   \n",
       "101396       2     ...             0       0       0        0        0      0   \n",
       "101397       2     ...             0       0       0        0        0      0   \n",
       "101398       1     ...             0       0       0        0        0      0   \n",
       "101399       1     ...             0       0       0        0        0      0   \n",
       "\n",
       "        RHSEN  UTERINE  BWEIGHT  BWEIGHT_Log  \n",
       "0           0        0   4.3750     1.475907  \n",
       "1           0        0   6.9375     1.936941  \n",
       "2           0        0   8.5000     2.140066  \n",
       "3           0        0   8.5000     2.140066  \n",
       "4           0        0   9.0000     2.197225  \n",
       "5           0        0   8.0000     2.079442  \n",
       "6           0        0   7.0000     1.945910  \n",
       "7           0        0   7.3750     1.998096  \n",
       "8           0        0   8.1875     2.102609  \n",
       "9           0        0   7.0625     1.954799  \n",
       "10          0        0   6.2500     1.832581  \n",
       "11          0        0   6.3750     1.852384  \n",
       "12          0        0   5.7500     1.749200  \n",
       "13          0        0   8.4375     2.132686  \n",
       "14          0        0   7.3125     1.989585  \n",
       "15          0        0   6.9375     1.936941  \n",
       "16          0        0   6.8125     1.918759  \n",
       "17          0        0   7.6250     2.031432  \n",
       "18          0        0   6.0625     1.802122  \n",
       "19          1        0   6.6875     1.900240  \n",
       "20          0        0   7.9375     2.071598  \n",
       "21          0        0   7.8750     2.063693  \n",
       "22          0        0   3.2500     1.178655  \n",
       "23          0        0   8.9375     2.190256  \n",
       "24          0        0   8.5000     2.140066  \n",
       "25          0        0   6.9375     1.936941  \n",
       "26          0        0   6.5000     1.871802  \n",
       "27          0        0   5.1250     1.634131  \n",
       "28          0        0   7.0625     1.954799  \n",
       "29          0        0   0.8750    -0.133531  \n",
       "...       ...      ...      ...          ...  \n",
       "101370      0        0   6.6250     1.890850  \n",
       "101371      0        0   8.8750     2.183238  \n",
       "101372      0        0   5.3750     1.681759  \n",
       "101373      0        0   2.8125     1.034074  \n",
       "101374      0        0  10.0625     2.308816  \n",
       "101375      0        0   6.9375     1.936941  \n",
       "101376      0        0   6.3750     1.852384  \n",
       "101377      0        0   8.5000     2.140066  \n",
       "101378      0        0   7.0000     1.945910  \n",
       "101379      0        0   8.6250     2.154665  \n",
       "101380      0        0   8.5000     2.140066  \n",
       "101381      0        0   8.1875     2.102609  \n",
       "101382      0        0   8.6250     2.154665  \n",
       "101383      0        0   6.6875     1.900240  \n",
       "101384      0        0   5.0625     1.621860  \n",
       "101385      0        0   8.3125     2.117760  \n",
       "101386      0        0   7.4375     2.006535  \n",
       "101387      0        0   4.5000     1.504077  \n",
       "101388      0        0   8.8125     2.176171  \n",
       "101389      0        0   6.5625     1.881372  \n",
       "101390      0        0   8.1250     2.094946  \n",
       "101391      0        0   6.8125     1.918759  \n",
       "101392      0        0   8.4375     2.132686  \n",
       "101393      0        0   8.5625     2.147392  \n",
       "101394      0        0   8.3750     2.125251  \n",
       "101395      0        0   9.1250     2.211018  \n",
       "101396      0        0   7.3750     1.998096  \n",
       "101397      0        0   7.5000     2.014903  \n",
       "101398      0        0   7.6250     2.031432  \n",
       "101399      0        0   6.2500     1.832581  \n",
       "\n",
       "[101400 rows x 36 columns]>"
      ]
     },
     "execution_count": 7,
     "metadata": {},
     "output_type": "execute_result"
    }
   ],
   "source": [
    "df_train.info()\n",
    "df_train_num1 = df_train.drop(\"HISPMOM\", axis=1)\n",
    "df_train_num2 = df_train_num1.drop(\"HISPDAD\", axis=1)\n",
    "\n",
    "from sklearn.preprocessing import Imputer\n",
    "imputer = Imputer(strategy = \"median\")\n",
    "imputer.fit(df_train_num2)\n",
    "\n",
    "df_train_num2.head"
   ]
  },
  {
   "cell_type": "markdown",
   "metadata": {},
   "source": [
    "### TASK 8: Tackle the dummy categorical variables by introducing dummy variables"
   ]
  },
  {
   "cell_type": "code",
   "execution_count": 8,
   "metadata": {},
   "outputs": [
    {
     "data": {
      "text/plain": [
       "(101400, 38)"
      ]
     },
     "execution_count": 8,
     "metadata": {},
     "output_type": "execute_result"
    }
   ],
   "source": [
    "from sklearn.preprocessing import LabelEncoder\n",
    "encoder = LabelEncoder()\n",
    "\n",
    "df_train_dum = df_train[\"HISPMOM\"]\n",
    "df_train_dum_encoded = encoder.fit_transform(df_train_dum)\n",
    "\n",
    "df_train_dum1 = df_train[\"HISPDAD\"]\n",
    "df_train_dum1_encoded = encoder.fit_transform(df_train_dum1)\n",
    "\n",
    "#MultiColumnLabelEncoder(columns = ['HISPMOM','HISPDAD']).fit_transform(df_train)\n",
    "\n",
    "#print(encoder.classes_)\n",
    "#print(df_train_dum_encoded)\n",
    "#print(df_train_dum1_encoded)\n",
    "#print(df_train_dum1_encoded.size)\n",
    "\n",
    "df_train['HISPMOM'] = df_train_dum_encoded\n",
    "df_train['HISPDAD'] = df_train_dum1_encoded\n",
    "df_train.shape"
   ]
  },
  {
   "cell_type": "markdown",
   "metadata": {},
   "source": [
    "### TASK 9.1: Randomly split the dataset into training, Tr (80%) and testing, Te (20%)"
   ]
  },
  {
   "cell_type": "code",
   "execution_count": 9,
   "metadata": {},
   "outputs": [
    {
     "name": "stdout",
     "output_type": "stream",
     "text": [
      "(81120, 38)\n",
      "(20280, 38)\n",
      "BWEIGHT        1.000000\n",
      "BWEIGHT_Log    0.948247\n",
      "WEEKS          0.565376\n",
      "GAINED         0.173262\n",
      "VISITS         0.129587\n",
      "HYPERPR        0.108541\n",
      "MARITAL        0.107106\n",
      "SEX            0.093440\n",
      "CIGNUM         0.090670\n",
      "RACEDAD        0.084056\n",
      "RACEMOM        0.079893\n",
      "PRETERM        0.072932\n",
      "MAGE           0.068473\n",
      "ECLAMP         0.068073\n",
      "PINFANT        0.067073\n",
      "CERVIX         0.066935\n",
      "MEDUC          0.055908\n",
      "FEDUC          0.052673\n",
      "FAGE           0.051447\n",
      "HYDRAM         0.050001\n",
      "HYPERCH        0.043561\n",
      "UTERINE        0.042741\n",
      "LOUTCOME       0.037264\n",
      "BDEAD          0.036611\n",
      "TERMS          0.026878\n",
      "HISPMOM        0.015853\n",
      "HISPDAD        0.014481\n",
      "ANEMIA         0.011487\n",
      "HEMOGLOB       0.010994\n",
      "DIABETES       0.010216\n",
      "DRINKNUM       0.010207\n",
      "RENAL          0.007734\n",
      "ACLUNG         0.006643\n",
      "TOTALP         0.003201\n",
      "ID             0.003001\n",
      "RHSEN          0.001985\n",
      "HERPES         0.001442\n",
      "CARDIAC        0.000425\n",
      "Name: BWEIGHT, dtype: float64\n"
     ]
    }
   ],
   "source": [
    "train_set, test_set = train_test_split(df_train, test_size=0.20, random_state =50)\n",
    "print(train_set.shape)\n",
    "print(test_set.shape)\n",
    "\n",
    "corr_matrix = df_train.corr()\n",
    "corr_abs = corr_matrix.abs()\n",
    "print(corr_abs['BWEIGHT'].sort_values(ascending=False))"
   ]
  },
  {
   "cell_type": "markdown",
   "metadata": {},
   "source": [
    "### TASK 9.2: On the training dataset, apply a normalization technique"
   ]
  },
  {
   "cell_type": "code",
   "execution_count": 10,
   "metadata": {},
   "outputs": [
    {
     "name": "stdout",
     "output_type": "stream",
     "text": [
      "MinMaxScaler(copy=True, feature_range=(0, 1))\n",
      "[[0.73037209 0.         0.         ... 0.         0.58737864 0.87698235]\n",
      " [0.59957199 0.125      1.         ... 0.         0.50485437 0.84223627]\n",
      " [0.54590282 0.         1.         ... 0.         0.64563107 0.89874941]\n",
      " ...\n",
      " [0.47748992 0.125      0.         ... 0.         0.40776699 0.79347701]\n",
      " [0.22324678 0.125      0.         ... 0.         0.60194175 0.8826155 ]\n",
      " [0.13806842 0.125      0.         ... 0.         0.51456311 0.84660014]]\n",
      "(81120, 11)\n",
      "(81120, 1)\n"
     ]
    }
   ],
   "source": [
    "from sklearn.preprocessing import MinMaxScaler\n",
    "scaler = MinMaxScaler()\n",
    "print(scaler.fit(train_set))\n",
    "print(scaler.transform(train_set))\n",
    "train_set.head\n",
    "\n",
    "xtrain_set = train_set[[\"WEEKS\", \"GAINED\", \"VISITS\", \"HYPERPR\", \"MARITAL\", \"SEX\", \"CIGNUM\", \"RACEDAD\", \"RACEMOM\", \"PRETERM\", \"MAGE\"]]\n",
    "ytrain_set = train_set[[\"BWEIGHT\"]]\n",
    "print(xtrain_set.shape)\n",
    "print(ytrain_set.shape)"
   ]
  },
  {
   "cell_type": "markdown",
   "metadata": {},
   "source": [
    "### TASK 9.3: Apply the training data statistics to normalize the testing data as well."
   ]
  },
  {
   "cell_type": "code",
   "execution_count": 11,
   "metadata": {},
   "outputs": [
    {
     "name": "stdout",
     "output_type": "stream",
     "text": [
      "MinMaxScaler(copy=True, feature_range=(0, 1))\n",
      "[[0.9161858  1.         1.         ... 0.         0.5920398  0.8575513 ]\n",
      " [0.79862693 1.         1.         ... 0.         0.44776119 0.78300496]\n",
      " [0.83007329 1.         0.         ... 0.         0.52736318 0.82653855]\n",
      " ...\n",
      " [0.68994565 1.         0.         ... 0.         0.43283582 0.77403883]\n",
      " [0.7515955  0.         0.         ... 0.         0.54726368 0.83644867]\n",
      " [0.21185847 1.         0.         ... 0.         0.15422886 0.51374734]]\n",
      "(20280, 11)\n",
      "(20280, 1)\n"
     ]
    }
   ],
   "source": [
    "print(scaler.fit(test_set))\n",
    "print(scaler.transform(test_set))\n",
    "test_set.head\n",
    "\n",
    "xtest_set = test_set[[\"WEEKS\", \"GAINED\", \"VISITS\", \"HYPERPR\", \"MARITAL\", \"SEX\", \"CIGNUM\", \"RACEDAD\", \"RACEMOM\", \"PRETERM\", \"MAGE\"]]\n",
    "ytest_set = test_set[[\"BWEIGHT\"]]\n",
    "print(xtest_set.shape)\n",
    "print(ytest_set.shape)\n"
   ]
  },
  {
   "cell_type": "markdown",
   "metadata": {},
   "source": [
    "### TASK 10: Find the linear regression function describing the training dataset using a technique you recently learned in class.  CLOSED-FORM vs. Gradient Descent (batch or stochastic or mini-batch).\n",
    "###          PLEASE DO NOT CALL ANY LIBRARY FUNCTION THAT MIGHT DO THE TASK FOR YOU. If you do, you are most likely get a ZERO for this assignment."
   ]
  },
  {
   "cell_type": "code",
   "execution_count": 12,
   "metadata": {},
   "outputs": [
    {
     "name": "stdout",
     "output_type": "stream",
     "text": [
      "(81120, 12)\n",
      "(81120, 1)\n",
      "(1, 12)\n",
      "Iteration 0 | Cost: 14.159922\n",
      "Iteration 100 | Cost: 0.635999\n",
      "Iteration 200 | Cost: 0.620659\n",
      "Iteration 300 | Cost: 0.616260\n",
      "Iteration 400 | Cost: 0.613808\n",
      "Iteration 500 | Cost: 0.612062\n",
      "Iteration 600 | Cost: 0.610690\n",
      "Iteration 700 | Cost: 0.609551\n",
      "Iteration 800 | Cost: 0.608571\n",
      "Iteration 900 | Cost: 0.607705\n",
      "Iteration 1000 | Cost: 0.606926\n",
      "Iteration 1100 | Cost: 0.606213\n",
      "Iteration 1200 | Cost: 0.605551\n",
      "Iteration 1300 | Cost: 0.604932\n",
      "Iteration 1400 | Cost: 0.604346\n",
      "Iteration 1500 | Cost: 0.603789\n",
      "Iteration 1600 | Cost: 0.603255\n",
      "Iteration 1700 | Cost: 0.602742\n",
      "Iteration 1800 | Cost: 0.602246\n",
      "Iteration 1900 | Cost: 0.601766\n",
      "Iteration 2000 | Cost: 0.601301\n",
      "Iteration 2100 | Cost: 0.600848\n",
      "Iteration 2200 | Cost: 0.600408\n",
      "Iteration 2300 | Cost: 0.599979\n",
      "Iteration 2400 | Cost: 0.599560\n",
      "Iteration 2500 | Cost: 0.599152\n",
      "Iteration 2600 | Cost: 0.598753\n",
      "Iteration 2700 | Cost: 0.598364\n",
      "Iteration 2800 | Cost: 0.597984\n",
      "Iteration 2900 | Cost: 0.597612\n",
      "Iteration 3000 | Cost: 0.597248\n",
      "Iteration 3100 | Cost: 0.596893\n",
      "Iteration 3200 | Cost: 0.596546\n",
      "Iteration 3300 | Cost: 0.596206\n",
      "Iteration 3400 | Cost: 0.595874\n",
      "Iteration 3500 | Cost: 0.595549\n",
      "Iteration 3600 | Cost: 0.595232\n",
      "Iteration 3700 | Cost: 0.594921\n",
      "Iteration 3800 | Cost: 0.594617\n",
      "Iteration 3900 | Cost: 0.594320\n",
      "Iteration 4000 | Cost: 0.594029\n",
      "Iteration 4100 | Cost: 0.593744\n",
      "Iteration 4200 | Cost: 0.593465\n",
      "Iteration 4300 | Cost: 0.593193\n",
      "Iteration 4400 | Cost: 0.592926\n",
      "Iteration 4500 | Cost: 0.592665\n",
      "Iteration 4600 | Cost: 0.592409\n",
      "Iteration 4700 | Cost: 0.592159\n",
      "Iteration 4800 | Cost: 0.591914\n",
      "Iteration 4900 | Cost: 0.591675\n",
      "Iteration 5000 | Cost: 0.591440\n",
      "Iteration 5100 | Cost: 0.591211\n",
      "Iteration 5200 | Cost: 0.590986\n",
      "Iteration 5300 | Cost: 0.590766\n",
      "Iteration 5400 | Cost: 0.590550\n",
      "Iteration 5500 | Cost: 0.590339\n",
      "Iteration 5600 | Cost: 0.590133\n",
      "Iteration 5700 | Cost: 0.589930\n",
      "Iteration 5800 | Cost: 0.589732\n",
      "Iteration 5900 | Cost: 0.589538\n",
      "Iteration 6000 | Cost: 0.589348\n",
      "Iteration 6100 | Cost: 0.589162\n",
      "Iteration 6200 | Cost: 0.588979\n",
      "Iteration 6300 | Cost: 0.588801\n",
      "Iteration 6400 | Cost: 0.588625\n",
      "Iteration 6500 | Cost: 0.588454\n",
      "Iteration 6600 | Cost: 0.588286\n",
      "Iteration 6700 | Cost: 0.588121\n",
      "Iteration 6800 | Cost: 0.587960\n",
      "Iteration 6900 | Cost: 0.587802\n",
      "Iteration 7000 | Cost: 0.587646\n",
      "Iteration 7100 | Cost: 0.587495\n",
      "Iteration 7200 | Cost: 0.587346\n",
      "Iteration 7300 | Cost: 0.587199\n",
      "Iteration 7400 | Cost: 0.587056\n",
      "Iteration 7500 | Cost: 0.586916\n",
      "Iteration 7600 | Cost: 0.586778\n",
      "Iteration 7700 | Cost: 0.586643\n",
      "Iteration 7800 | Cost: 0.586511\n",
      "Iteration 7900 | Cost: 0.586381\n",
      "Iteration 8000 | Cost: 0.586254\n",
      "Iteration 8100 | Cost: 0.586129\n",
      "Iteration 8200 | Cost: 0.586006\n",
      "Iteration 8300 | Cost: 0.585886\n",
      "Iteration 8400 | Cost: 0.585768\n",
      "Iteration 8500 | Cost: 0.585653\n",
      "Iteration 8600 | Cost: 0.585539\n",
      "Iteration 8700 | Cost: 0.585428\n",
      "Iteration 8800 | Cost: 0.585318\n",
      "Iteration 8900 | Cost: 0.585211\n",
      "Iteration 9000 | Cost: 0.585105\n",
      "Iteration 9100 | Cost: 0.585002\n",
      "Iteration 9200 | Cost: 0.584901\n",
      "Iteration 9300 | Cost: 0.584801\n",
      "Iteration 9400 | Cost: 0.584703\n",
      "Iteration 9500 | Cost: 0.584607\n",
      "Iteration 9600 | Cost: 0.584512\n",
      "Iteration 9700 | Cost: 0.584420\n",
      "Iteration 9800 | Cost: 0.584328\n",
      "Iteration 9900 | Cost: 0.584239\n",
      "Weigths for the linear model [[-0.07544517  0.19979658  0.01042331  0.00462508 -0.10641597 -0.2156321\n",
      "  -0.24006341 -0.0356554  -0.05633269 -0.04609623 -0.02677635  0.00196046]]\n",
      "0.5841519060593668\n"
     ]
    }
   ],
   "source": [
    "X = xtrain_set.iloc[:,:]\n",
    "ones = np.ones([X.shape[0],1])\n",
    "X = np.concatenate((ones,X),axis=1)\n",
    "\n",
    "\n",
    "y = ytrain_set.iloc[:,:].values #.converts pandas Dataframe to numpy.ndarray\n",
    "\n",
    "#select initial weights. Taking all zeros to start with\n",
    "weight = np.zeros([1,X.shape[1]])\n",
    "\n",
    "#set learning rate and number of iterations\n",
    "alpha = 0.0005  \n",
    "iters = 10000\n",
    "\n",
    "\n",
    "# Print shapes of X, y and theta to make sure their dimensions are correct \n",
    "print(X.shape) ; \n",
    "print(y.shape) ;\n",
    "print(weight.shape);\n",
    "\n",
    "\n",
    "\n",
    "#computecost\n",
    "def computeCost(X,y,weight):\n",
    "    \n",
    "    h = X@weight.T    # '@' for matrix multiplication. Alternatively matmult() can be used\n",
    "    error = h-y    \n",
    "    loss = np.power(error,2)\n",
    "    J = np.sum(loss)/(2*len(X))\n",
    "    return J\n",
    "\n",
    "\n",
    "\n",
    "#gradient descent\n",
    "def gradientDescent(X,y,weight,iters,alpha):\n",
    "    \n",
    "    cost = np.zeros(iters)\n",
    "    \n",
    "    for i in range(iters):\n",
    "            \n",
    "        y_hat = X@weight.T\n",
    "        gradient = np.sum(X*(y_hat - y)  ,  axis = 0)          \n",
    "        weight = weight - (alpha/len(X))*gradient         \n",
    "        cost[i] = computeCost(X, y, weight) \n",
    "        \n",
    "        # print cost after every 100 iterations to keep a track of when the cost function converges\n",
    "        if i%100 == 0:\n",
    "            print(\"Iteration %d | Cost: %f\" % (i, cost[i]))\n",
    "            \n",
    "    return weight,cost\n",
    "\n",
    "\n",
    "#running the gd and cost function\n",
    "W,cost = gradientDescent(X,y,weight,iters,alpha)\n",
    "print(\"Weigths for the linear model\", W)\n",
    "\n",
    "finalCost = computeCost(X,y,W)\n",
    "print(finalCost)\n",
    "\n"
   ]
  },
  {
   "cell_type": "markdown",
   "metadata": {},
   "source": [
    "### Task 11: Predict BWEIGHT target variable for each of the testing dataset using the regression line you learned in Task 10, and report RMSE(testing) (Root Mean Squared Error)"
   ]
  },
  {
   "cell_type": "code",
   "execution_count": 13,
   "metadata": {
    "scrolled": true
   },
   "outputs": [
    {
     "name": "stdout",
     "output_type": "stream",
     "text": [
      "shape of X_test:  (20280, 12)\n",
      "shape of W:  (1, 12)\n",
      "shape of y_test:  (20280, 1)\n",
      "Root Mean Squared Error =  1.089435890861352\n"
     ]
    }
   ],
   "source": [
    "# get all rows and columns of pandas dataframe xtest_set into numpy array X_test\n",
    "X_test = xtest_set.iloc[:,:]\n",
    "\n",
    "# make the first column all ones\n",
    "ones = np.ones([X_test.shape[0],1])\n",
    "X_test = np.concatenate((ones,X_test),axis=1)\n",
    "\n",
    "#get all rows and columns of ytest_set into numpy array y_test\n",
    "y_test = ytest_set.iloc[:,:].values \n",
    "\n",
    "print(\"shape of X_test: \", X_test.shape)\n",
    "print(\"shape of W: \", W.shape)\n",
    "print(\"shape of y_test: \", y_test.shape)\n",
    "\n",
    "\n",
    "#err = y_test - np.matmul(X_test,W.T)  \n",
    "\n",
    "err = y_test - (X_test@W.T)  \n",
    "\n",
    "sq_err = err*err ; \n",
    "\n",
    "mean_sqr_err = np.sum(sq_err, axis = 0 )/len(err)\n",
    "\n",
    "RMSE = math.sqrt(mean_sqr_err)\n",
    "print(\"Root Mean Squared Error = \", RMSE)"
   ]
  },
  {
   "cell_type": "markdown",
   "metadata": {},
   "source": [
    "### Repeat TASK 10 additional four times : Run linear regression training again\n",
    "### After each run, Report RMSE(testing)\n"
   ]
  },
  {
   "cell_type": "code",
   "execution_count": null,
   "metadata": {},
   "outputs": [],
   "source": []
  },
  {
   "cell_type": "markdown",
   "metadata": {},
   "source": [
    "### Task 12: Finally, Report RMSE(testing) = Average(RMSE_test) $\\pm$ Stdev(RMSE_test)\n",
    "### Here Average(RMSE_test) = average of all the 5 RMSE(testing) scores you got above.\n",
    "### And, stdev(RMSE_test) = standard deviation of all the 5 RMSE(testing) scores above."
   ]
  },
  {
   "cell_type": "code",
   "execution_count": null,
   "metadata": {},
   "outputs": [],
   "source": [
    "\n",
    "\n",
    "\n",
    "\n"
   ]
  },
  {
   "cell_type": "markdown",
   "metadata": {},
   "source": [
    "### Task 13: Run linear regression one last time on the whole dataset  (i.e, training+testing which is preprocessed by you above)."
   ]
  },
  {
   "cell_type": "code",
   "execution_count": null,
   "metadata": {},
   "outputs": [],
   "source": [
    "\n",
    "\n",
    "\n",
    "\n"
   ]
  },
  {
   "cell_type": "markdown",
   "metadata": {},
   "source": [
    "### Task 14: Preprocess the judge-without-label.csv file according টo the strategy you applied above on the whole dataset (task 13)"
   ]
  },
  {
   "cell_type": "code",
   "execution_count": 22,
   "metadata": {},
   "outputs": [
    {
     "name": "stdout",
     "output_type": "stream",
     "text": [
      "[[0.65384615 0.82352941 0.26190476 ... 0.125      0.         0.33333333]\n",
      " [0.84615385 0.42352941 0.35714286 ... 0.375      0.         0.09090909]\n",
      " [0.76923077 0.21176471 0.23809524 ... 0.125      0.         0.3030303 ]\n",
      " ...\n",
      " [0.73076923 0.34117647 0.26190476 ... 0.125      0.         0.57575758]\n",
      " [0.57692308 0.23529412 0.30952381 ... 0.125      0.         0.36363636]\n",
      " [0.53846154 0.52941176 0.38095238 ... 0.125      0.         0.36363636]]\n"
     ]
    }
   ],
   "source": [
    "df_judge = pd.read_csv(\"judge-without-labels_2.csv\")\n",
    "\n",
    "from sklearn.preprocessing import MinMaxScaler\n",
    "\n",
    "\n",
    "xjudge_set = df_judge[[\"WEEKS\", \"GAINED\", \"VISITS\", \"HYPERPR\", \"MARITAL\", \"SEX\", \"CIGNUM\", \"RACEDAD\", \"RACEMOM\", \"PRETERM\", \"MAGE\"]]\n",
    "\n",
    "scaler = MinMaxScaler()\n",
    "scaler.fit(xjudge_set)\n",
    "print(scaler.transform(xjudge_set))\n",
    "\n"
   ]
  },
  {
   "cell_type": "markdown",
   "metadata": {},
   "source": [
    "### Task 15: Predict BWEIGHT for each of the samples from the judge-without-label.csv file, and save the results in judge-submission-run-1.csv in the format below. Please change the run number and report what changes you have made in a corresponding file run-1.txt."
   ]
  },
  {
   "cell_type": "code",
   "execution_count": 45,
   "metadata": {
    "scrolled": true
   },
   "outputs": [
    {
     "name": "stdout",
     "output_type": "stream",
     "text": [
      "shape of X_test:  (2001, 12)\n",
      "shape of W:  (1, 12)\n",
      "(2001, 1)\n",
      "(2001, 2)\n"
     ]
    }
   ],
   "source": [
    "# get all rows and columns of pandas dataframe xtest_set into numpy array X_test\n",
    "X_Judge = xjudge_set.iloc[:,:]\n",
    "\n",
    "# make the first column all ones\n",
    "ones = np.ones([X_Judge.shape[0],1])\n",
    "X_Judge = np.concatenate((ones,X_Judge),axis=1)\n",
    "\n",
    "#get all rows and columns of ytest_set into numpy array y_test\n",
    "\n",
    "\n",
    "print(\"shape of X_test: \", X_Judge.shape)\n",
    "print(\"shape of W: \", W.shape)\n",
    "\n",
    "\n",
    "\n",
    "#err = y_test - np.matmul(X_test,W.T)  \n",
    "BWEIGHT_PREDICION =  (X_Judge@W.T)  \n",
    "\n",
    "print(BWEIGHT_PREDICION.shape)\n",
    "\n",
    "\n",
    "idx = np.arange(len(BWEIGHT_PREDICION)).reshape(2001,1)\n",
    "\n",
    "idx.astype(np.int)\n",
    "\n",
    "BWEIGHT_PREDICION = np.concatenate((idx, BWEIGHT_PREDICION), axis = 1)\n",
    "\n",
    "print(BWEIGHT_PREDICION.shape)\n",
    "np.savetxt(\"Prediction.csv\", BWEIGHT_PREDICION, delimiter=\",\")\n",
    "\n"
   ]
  },
  {
   "cell_type": "markdown",
   "metadata": {},
   "source": [
    "# Tasks only for CSCI-5930 (Grad) students"
   ]
  },
  {
   "cell_type": "markdown",
   "metadata": {},
   "source": [
    "### Task 16: Repeat tasks 9-12 three times, and report the ultimate RMSE_test average $\\pm$ ultimate RMSE_test stdev"
   ]
  },
  {
   "cell_type": "code",
   "execution_count": null,
   "metadata": {},
   "outputs": [],
   "source": [
    "\n",
    "\n",
    "\n",
    "\n",
    "\n",
    "\n"
   ]
  },
  {
   "cell_type": "markdown",
   "metadata": {},
   "source": [
    "### Task 17: Make an entry in the Kaggle challenge [https://www.kaggle.com/c/csci-ml-s19-pa1/] by joining and submitting the judge-submission-run1.csv file, and please report your Kaggle handle here too.\n",
    "### There is limit of 5 entries each day untile the deadline.\n",
    "### For each of the runs you submit, please report here the RMSE you got (as reported by the Kaggle platform)."
   ]
  },
  {
   "cell_type": "code",
   "execution_count": null,
   "metadata": {},
   "outputs": [],
   "source": [
    "\n",
    "\n",
    "\n",
    "\n",
    "\n",
    "\n"
   ]
  }
 ],
 "metadata": {
  "kernelspec": {
   "display_name": "Python 3",
   "language": "python",
   "name": "python3"
  },
  "language_info": {
   "codemirror_mode": {
    "name": "ipython",
    "version": 3
   },
   "file_extension": ".py",
   "mimetype": "text/x-python",
   "name": "python",
   "nbconvert_exporter": "python",
   "pygments_lexer": "ipython3",
   "version": "3.6.4"
  },
  "varInspector": {
   "cols": {
    "lenName": 16,
    "lenType": 16,
    "lenVar": 40
   },
   "kernels_config": {
    "python": {
     "delete_cmd_postfix": "",
     "delete_cmd_prefix": "del ",
     "library": "var_list.py",
     "varRefreshCmd": "print(var_dic_list())"
    },
    "r": {
     "delete_cmd_postfix": ") ",
     "delete_cmd_prefix": "rm(",
     "library": "var_list.r",
     "varRefreshCmd": "cat(var_dic_list()) "
    }
   },
   "types_to_exclude": [
    "module",
    "function",
    "builtin_function_or_method",
    "instance",
    "_Feature"
   ],
   "window_display": false
  }
 },
 "nbformat": 4,
 "nbformat_minor": 2
}
